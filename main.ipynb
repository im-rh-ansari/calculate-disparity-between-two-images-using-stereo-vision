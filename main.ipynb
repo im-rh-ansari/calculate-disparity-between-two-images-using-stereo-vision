{
 "cells": [
  {
   "cell_type": "code",
   "execution_count": 1,
   "metadata": {},
   "outputs": [
    {
     "data": {
      "text/plain": [
       "-1"
      ]
     },
     "execution_count": 1,
     "metadata": {},
     "output_type": "execute_result"
    }
   ],
   "source": [
    "import cv2\n",
    "import numpy as np\n",
    "\n",
    "# disparity settings\n",
    "window_size = 5\n",
    "min_disp = 32\n",
    "num_disp = 112-min_disp\n",
    "stereo = cv2.StereoSGBM_create(\n",
    "    minDisparity = min_disp,\n",
    "    numDisparities = num_disp,\n",
    "    uniquenessRatio = 5,\n",
    "    speckleWindowSize = 100,\n",
    "    speckleRange = 16,\n",
    "    disp12MaxDiff = 1,\n",
    "    P1 = 8*3*window_size**2,\n",
    "    P2 = 32*3*window_size**2,\n",
    ")\n",
    "\n",
    "# morphology settings\n",
    "kernel = np.ones((12,12),np.uint8)\n",
    "\n",
    "\n",
    "\n",
    "# compute disparity\n",
    "    \n",
    "    \n",
    "   \n",
    "imgL = cv2.imread('image_0.png',0)\n",
    "imgR = cv2.imread('image_1.png',0)\n",
    "\n",
    "    \n",
    "disparity = stereo.compute(imgL,imgR).astype(np.float32) / 16.0\n",
    "disparity = (disparity-min_disp)/num_disp\n",
    "# apply threshold\n",
    "threshold = cv2.threshold(disparity, 0.6, 1.0, cv2.THRESH_BINARY)[1]\n",
    "# apply morphological transformation\n",
    "morphology = cv2.morphologyEx(threshold, cv2.MORPH_OPEN, kernel)\n",
    "# show images\n",
    "cv2.imshow('left eye', imgL)\n",
    "cv2.imshow('right eye', imgR)\n",
    "cv2.imshow('disparity', disparity)\n",
    "cv2.imshow('threshold', threshold)\n",
    "cv2.imshow('morphology', morphology)\n",
    "cv2.waitKey(1)\n",
    "    "
   ]
  },
  {
   "cell_type": "code",
   "execution_count": null,
   "metadata": {},
   "outputs": [],
   "source": []
  }
 ],
 "metadata": {
  "kernelspec": {
   "display_name": "Python 3",
   "language": "python",
   "name": "python3"
  },
  "language_info": {
   "codemirror_mode": {
    "name": "ipython",
    "version": 3
   },
   "file_extension": ".py",
   "mimetype": "text/x-python",
   "name": "python",
   "nbconvert_exporter": "python",
   "pygments_lexer": "ipython3",
   "version": "3.7.1"
  }
 },
 "nbformat": 4,
 "nbformat_minor": 2
}
